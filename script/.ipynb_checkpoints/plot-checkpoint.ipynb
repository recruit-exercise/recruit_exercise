{
 "cells": [
  {
   "cell_type": "code",
   "execution_count": 24,
   "metadata": {},
   "outputs": [],
   "source": [
    "import pandas as pd\n",
    "import numpy as np\n",
    "import seaborn as sns\n",
    "import matplotlib.pyplot as plt\n",
    "%matplotlib inline"
   ]
  },
  {
   "cell_type": "code",
   "execution_count": 61,
   "metadata": {},
   "outputs": [],
   "source": [
    "def palade_plot(df,column,rotation=0,color_list=[\"steelblue\"]):\n",
    "    temp = pd.concat([pd.Series(df[column].value_counts().index),\n",
    "                        pd.Series(df[column].value_counts().values),\n",
    "                        pd.Series((df[column].value_counts().cumsum()/df[column].value_counts().sum()).values)],\n",
    "                      axis=1)\n",
    "    label_data,value_data,cum_data =temp[0],temp[1],temp[2]\n",
    "    length = len(label_data)\n",
    "    fig,ax1 = plt.subplots()\n",
    "    ax1.bar(\n",
    "            left = np.arange(length),\n",
    "            height = value_data,\n",
    "            tick_label = label_data,\n",
    "            color = color_list\n",
    "            )\n",
    "    ax2 = ax1.twinx()\n",
    "    ax2.plot(cum_data,color='k')\n",
    "    plt.hlines([0.8],-1,length,linestyles=\"dashed\")\n",
    "    ax1.set_xticklabels(label_data,rotation = rotation)\n",
    "    ax2.set_ylim([0,1.0])\n",
    "    "
   ]
  },
  {
   "cell_type": "code",
   "execution_count": null,
   "metadata": {},
   "outputs": [],
   "source": []
  },
  {
   "cell_type": "code",
   "execution_count": null,
   "metadata": {},
   "outputs": [],
   "source": []
  }
 ],
 "metadata": {
  "kernelspec": {
   "display_name": "Python 3",
   "language": "python",
   "name": "python3"
  },
  "language_info": {
   "codemirror_mode": {
    "name": "ipython",
    "version": 3
   },
   "file_extension": ".py",
   "mimetype": "text/x-python",
   "name": "python",
   "nbconvert_exporter": "python",
   "pygments_lexer": "ipython3",
   "version": "3.6.5"
  }
 },
 "nbformat": 4,
 "nbformat_minor": 2
}
