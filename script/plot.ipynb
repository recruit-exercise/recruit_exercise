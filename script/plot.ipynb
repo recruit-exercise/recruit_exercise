{
 "cells": [
  {
   "cell_type": "code",
   "execution_count": 6,
   "metadata": {},
   "outputs": [],
   "source": [
    "import pandas as pd\n",
    "import numpy as np\n",
    "import seaborn as sns\n",
    "import matplotlib.pyplot as plt\n",
    "%matplotlib inline"
   ]
  },
  {
   "cell_type": "code",
   "execution_count": 61,
   "metadata": {},
   "outputs": [],
   "source": [
    "def palade_plot(df,column,rotation=0,color_list=[\"steelblue\"]):\n",
    "    temp = pd.concat([pd.Series(df[column].value_counts().index),\n",
    "                        pd.Series(df[column].value_counts().values),\n",
    "                        pd.Series((df[column].value_counts().cumsum()/df[column].value_counts().sum()).values)],\n",
    "                      axis=1)\n",
    "    label_data,value_data,cum_data =temp[0],temp[1],temp[2]\n",
    "    length = len(label_data)\n",
    "    fig,ax1 = plt.subplots()\n",
    "    ax1.bar(\n",
    "            left = np.arange(length),\n",
    "            height = value_data,\n",
    "            tick_label = label_data,\n",
    "            color = color_list\n",
    "            )\n",
    "    ax2 = ax1.twinx()\n",
    "    ax2.plot(cum_data,color='k')\n",
    "    plt.hlines([0.8],-1,length,linestyles=\"dashed\")\n",
    "    ax1.set_xticklabels(label_data,rotation = rotation)\n",
    "    ax2.set_ylim([0,1.0])\n",
    "    "
   ]
  },
  {
   "cell_type": "code",
   "execution_count": 1,
   "metadata": {},
   "outputs": [],
   "source": [
    "!echo 'test' > test.py"
   ]
  },
  {
   "cell_type": "code",
   "execution_count": 9,
   "metadata": {},
   "outputs": [],
   "source": [
    "def plot(df,column,x_numbers=10,rotation=0,color_list=[\"steelblue\"],ABC=False):\n",
    "    temp = pd.concat([pd.Series(df[column].value_counts().index),\n",
    "                        pd.Series(df[column].value_counts().values),\n",
    "                        pd.Series((df[column].value_counts().cumsum()/df[column].value_counts().sum()).values)],\n",
    "                      axis=1)\n",
    "    label_data,value_data,cum_data =temp[0][:x_numbers],temp[1][:x_numbers],temp[2][:x_numbers]\n",
    "    print(label_data)\n",
    "    if ABC:\n",
    "        print(\"check\")\n",
    "        color_list = cum_data.apply(lambda x: \"r\" if x <= 0.70 else \"g\" if x <= 0.9 else \"b\")        \n",
    "        print(color_list)\n",
    "    length = len(label_data)\n",
    "    fig,ax1 = plt.subplots()\n",
    "    ax1.bar(\n",
    "            left = np.arange(length),\n",
    "            height = value_data,\n",
    "            tick_label = label_data,\n",
    "            color = color_list\n",
    "            )\n",
    "    ax2 = ax1.twinx()\n",
    "    ax2.plot(cum_data,color='k')\n",
    "    plt.hlines([0.8],-1,length,linestyles=\"dashed\")\n",
    "    ax1.set_xticklabels(label_data,rotation = rotation)\n",
    "    ax2.set_ylim([0,1.0])\n",
    "    \n"
   ]
  },
  {
   "cell_type": "code",
   "execution_count": null,
   "metadata": {},
   "outputs": [],
   "source": []
  },
  {
   "cell_type": "code",
   "execution_count": 7,
   "metadata": {},
   "outputs": [],
   "source": [
    "hpg_reserve = pd.read_csv(\"../data/hpg_reserve.csv\")"
   ]
  },
  {
   "cell_type": "code",
   "execution_count": 10,
   "metadata": {},
   "outputs": [
    {
     "name": "stdout",
     "output_type": "stream",
     "text": [
      "0     2\n",
      "1     3\n",
      "2     4\n",
      "3     5\n",
      "4     6\n",
      "5     7\n",
      "6     8\n",
      "7    10\n",
      "8     9\n",
      "9    12\n",
      "Name: 0, dtype: int64\n",
      "check\n",
      "0    r\n",
      "1    r\n",
      "2    r\n",
      "3    g\n",
      "4    g\n",
      "5    g\n",
      "6    g\n",
      "7    g\n",
      "8    b\n",
      "9    b\n",
      "Name: 2, dtype: object\n"
     ]
    },
    {
     "name": "stderr",
     "output_type": "stream",
     "text": [
      "/Users/ryo_ozaki/miniconda3/envs/python-basics/lib/python3.6/site-packages/matplotlib/__init__.py:1855: MatplotlibDeprecationWarning: The *left* kwarg to `bar` is deprecated use *x* instead. Support for *left* will be removed in Matplotlib 3.0\n",
      "  return func(ax, *args, **kwargs)\n"
     ]
    },
    {
     "data": {
      "image/png": "[encoded data removed]",
      "text/plain": [
       "<Figure size 432x288 with 2 Axes>"
      ]
     },
     "metadata": {},
     "output_type": "display_data"
    }
   ],
   "source": [
    "plot(hpg_reserve,\"reserve_visitors\",ABC=True)"
   ]
  },
  {
   "cell_type": "code",
   "execution_count": 1,
   "metadata": {},
   "outputs": [],
   "source": [
    "import palade"
   ]
  },
  {
   "cell_type": "code",
   "execution_count": 25,
   "metadata": {},
   "outputs": [
    {
     "data": {
      "text/plain": [
       "<function palade.plot(df, column, x_numbers=10, rotation=0, color_list=['steelblue'], ABC=False)>"
      ]
     },
     "execution_count": 25,
     "metadata": {},
     "output_type": "execute_result"
    }
   ],
   "source": [
    "palade.plot"
   ]
  },
  {
   "cell_type": "code",
   "execution_count": null,
   "metadata": {},
   "outputs": [],
   "source": []
  }
 ],
 "metadata": {
  "kernelspec": {
   "display_name": "Python 3",
   "language": "python",
   "name": "python3"
  },
  "language_info": {
   "codemirror_mode": {
    "name": "ipython",
    "version": 3
   },
   "file_extension": ".py",
   "mimetype": "text/x-python",
   "name": "python",
   "nbconvert_exporter": "python",
   "pygments_lexer": "ipython3",
   "version": "3.6.5"
  }
 },
 "nbformat": 4,
 "nbformat_minor": 2
}
