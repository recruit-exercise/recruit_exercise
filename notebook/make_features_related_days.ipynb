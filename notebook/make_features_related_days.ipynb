{
 "cells": [
  {
   "cell_type": "markdown",
   "metadata": {},
   "source": [
    "# 特徴量作成"
   ]
  },
  {
   "cell_type": "code",
   "execution_count": 1,
   "metadata": {},
   "outputs": [],
   "source": [
    "import pandas as pd\n",
    "import numpy as np\n",
    "import datetime as dt\n",
    "import matplotlib.pyplot as plt\n",
    "%matplotlib inline"
   ]
  },
  {
   "cell_type": "code",
   "execution_count": 2,
   "metadata": {},
   "outputs": [],
   "source": [
    "features_temp1 = pd.read_csv('../data/features_format.csv',parse_dates=['visit_date'])\n",
    "date_info = pd.read_csv('../data/date_info.csv', parse_dates=['calendar_date'])"
   ]
  },
  {
   "cell_type": "code",
   "execution_count": 3,
   "metadata": {},
   "outputs": [],
   "source": [
    "features_temp1_with_info = pd.merge(features_temp1, date_info, how='left', left_on='visit_date', right_on='calendar_date')\n",
    "features_temp1_with_info.drop(columns='calendar_date',inplace=True)"
   ]
  },
  {
   "cell_type": "code",
   "execution_count": 4,
   "metadata": {},
   "outputs": [],
   "source": [
    "features_temp1_with_info['year']=features_temp1_with_info['visit_date'].dt.year\n",
    "features_temp1_with_info['month']=features_temp1_with_info['visit_date'].dt.month\n",
    "features_temp1_with_info['day']=features_temp1_with_info['visit_date'].dt.day"
   ]
  },
  {
   "cell_type": "markdown",
   "metadata": {},
   "source": [
    "## 月末フラグ\n",
    "- 各月のラスト3日"
   ]
  },
  {
   "cell_type": "code",
   "execution_count": 5,
   "metadata": {},
   "outputs": [],
   "source": [
    "features_temp1_with_info['end_of_month_flg']=0"
   ]
  },
  {
   "cell_type": "code",
   "execution_count": 6,
   "metadata": {},
   "outputs": [],
   "source": [
    "features_temp1_with_info.loc[features_temp1_with_info['month'].isin([1,3,5,7,8,10,12])\n",
    "                             &features_temp1_with_info['day'].isin([29,30,31]), 'end_of_month_flg']=1\n",
    "features_temp1_with_info.loc[features_temp1_with_info['month'].isin([4,6,9,11])\n",
    "                             &features_temp1_with_info['day'].isin([28,29,30]), 'end_of_month_flg']=1\n",
    "features_temp1_with_info.loc[features_temp1_with_info['year'].isin([2016])\n",
    "                             &features_temp1_with_info['month'].isin([2])\n",
    "                             &features_temp1_with_info['day'].isin([27,28,29]), 'end_of_month_flg']=1\n",
    "features_temp1_with_info.loc[features_temp1_with_info['year'].isin([2017])\n",
    "                             &features_temp1_with_info['month'].isin([2])\n",
    "                             &features_temp1_with_info['day'].isin([26,27,28]), 'end_of_month_flg']=1"
   ]
  },
  {
   "cell_type": "markdown",
   "metadata": {},
   "source": [
    "## 給料日フラグ\n",
    "- 各月5の倍数日\n",
    "- 休日の場合は前営業日"
   ]
  },
  {
   "cell_type": "code",
   "execution_count": 7,
   "metadata": {},
   "outputs": [],
   "source": [
    "features_temp1_with_info['payday_flg_temp']=0\n",
    "features_temp1_with_info['payday_flg']=0"
   ]
  },
  {
   "cell_type": "code",
   "execution_count": 8,
   "metadata": {},
   "outputs": [],
   "source": [
    "features_temp1_with_info.loc[features_temp1_with_info['day'].isin([5,10,15,20,25,30]), 'payday_flg_temp']=1\n",
    "features_temp1_with_info.loc[features_temp1_with_info['day'].isin([5,10,15,20,25,30]), 'payday_flg']=1"
   ]
  },
  {
   "cell_type": "code",
   "execution_count": 9,
   "metadata": {},
   "outputs": [],
   "source": [
    "features_temp1_with_info['payday_1_shift']=features_temp1_with_info['payday_flg_temp'].shift(-1)\n",
    "features_temp1_with_info['payday_2_shift']=features_temp1_with_info['payday_flg_temp'].shift(-2)"
   ]
  },
  {
   "cell_type": "code",
   "execution_count": 10,
   "metadata": {},
   "outputs": [],
   "source": [
    "features_temp1_with_info.loc[(features_temp1_with_info['payday_flg_temp']==1) & \n",
    "                             (features_temp1_with_info['day_of_week'].isin(['Saturday','Sunday'])), 'payday_flg']=0 \n",
    "features_temp1_with_info.loc[(features_temp1_with_info['day_of_week']=='Friday')& \n",
    "                             ((features_temp1_with_info['payday_1_shift'].isin([1])|\n",
    "                              (features_temp1_with_info['payday_2_shift'].isin([1])))),'payday_flg'] = 1"
   ]
  },
  {
   "cell_type": "code",
   "execution_count": 11,
   "metadata": {},
   "outputs": [],
   "source": [
    "features_temp1_with_info.loc[(~features_temp1_with_info['day_of_week'].isin(['Saturday', 'Sunday']))&\n",
    "                          (features_temp1_with_info['holiday_flg']==1)&\n",
    "                          (features_temp1_with_info['payday_flg_temp']==1), 'payday_flg']=0\n",
    "features_temp1_with_info.loc[features_temp1_with_info['visit_date'].isin(['2016-05-02','2016-08-12','2016-10-07','2016-12-29']), 'payday_flg']=1"
   ]
  },
  {
   "cell_type": "code",
   "execution_count": 12,
   "metadata": {},
   "outputs": [],
   "source": [
    "features_temp1_with_info.drop(columns=['payday_flg_temp','payday_1_shift','payday_2_shift'],inplace=True)"
   ]
  },
  {
   "cell_type": "markdown",
   "metadata": {},
   "source": [
    "## 祝前日フラグ\n",
    "- 金曜日・土曜日と祝日の前日"
   ]
  },
  {
   "cell_type": "code",
   "execution_count": 17,
   "metadata": {},
   "outputs": [],
   "source": [
    "features_temp1_with_info['happy_day_flg']=0\n",
    "features_temp1_with_info['holiday_1_shift']=features_temp1_with_info['holiday_flg'].shift(-1)"
   ]
  },
  {
   "cell_type": "code",
   "execution_count": 18,
   "metadata": {},
   "outputs": [],
   "source": [
    "features_temp1_with_info.loc[features_temp1_with_info['day_of_week'].isin(['Friday','Saturday']), 'happy_day_flg']=1"
   ]
  },
  {
   "cell_type": "code",
   "execution_count": 19,
   "metadata": {},
   "outputs": [],
   "source": [
    "features_temp1_with_info.loc[features_temp1_with_info['holiday_1_shift']==1,'happy_day_flg']=1"
   ]
  },
  {
   "cell_type": "code",
   "execution_count": 20,
   "metadata": {},
   "outputs": [],
   "source": [
    "features_temp1_with_info.drop(columns=['holiday_1_shift'],inplace=True)"
   ]
  },
  {
   "cell_type": "markdown",
   "metadata": {},
   "source": [
    "## 定休日フラグ\n",
    "- 各店舗における2016年1月1日から2017年3月14日までの来客数が0の曜日"
   ]
  },
  {
   "cell_type": "code",
   "execution_count": 21,
   "metadata": {},
   "outputs": [],
   "source": [
    "visitors_by_dayofweek=features_temp1_with_info.groupby(['air_store_id', 'day_of_week'])['visitors'].sum().reset_index()\n",
    "visitors_by_dayofweek.rename(columns={'visitors':'grouped_visitors'}, inplace=True)"
   ]
  },
  {
   "cell_type": "code",
   "execution_count": 22,
   "metadata": {},
   "outputs": [],
   "source": [
    "features_temp1_with_info=pd.merge(features_temp1_with_info, visitors_by_dayofweek, how='left', on=['air_store_id','day_of_week'])"
   ]
  },
  {
   "cell_type": "code",
   "execution_count": 23,
   "metadata": {},
   "outputs": [],
   "source": [
    "features_temp1_with_info['reg_holiday_flg']=0\n",
    "features_temp1_with_info.loc[features_temp1_with_info['grouped_visitors']==0, 'reg_holiday_flg']=1\n",
    "features_temp1_with_info.drop(columns='grouped_visitors', inplace=True)"
   ]
  },
  {
   "cell_type": "markdown",
   "metadata": {},
   "source": [
    "## csv出力\n",
    "- ここまでのデータをcsvへ書き出す"
   ]
  },
  {
   "cell_type": "code",
   "execution_count": 396,
   "metadata": {},
   "outputs": [],
   "source": [
    "features_temp1_with_info.to_csv('../data/features_related_days.csv')"
   ]
  },
  {
   "cell_type": "markdown",
   "metadata": {},
   "source": [
    "## 0622 17:00 更新分"
   ]
  },
  {
   "cell_type": "markdown",
   "metadata": {},
   "source": [
    "## 月別の物価指数と月別の日経平均の追加"
   ]
  },
  {
   "cell_type": "code",
   "execution_count": 71,
   "metadata": {},
   "outputs": [],
   "source": [
    "features_temp1_with_info['year_month']=features_temp1_with_info['visit_date'].dt.strftime('%Y-%m')"
   ]
  },
  {
   "cell_type": "code",
   "execution_count": 48,
   "metadata": {},
   "outputs": [],
   "source": [
    "consume_expenditure=pd.read_csv('../data/NC11M.csv',encoding='utf-8',usecols=[0,1],parse_dates=['年月'])\n",
    "nikkei=pd.read_csv('../data/NE51M.csv',encoding='utf-8',usecols=[0,1],parse_dates=['年月'])"
   ]
  },
  {
   "cell_type": "code",
   "execution_count": 57,
   "metadata": {},
   "outputs": [],
   "source": [
    "external_data=pd.merge(consume_expenditure, nikkei, on='年月')"
   ]
  },
  {
   "cell_type": "code",
   "execution_count": 64,
   "metadata": {},
   "outputs": [],
   "source": [
    "external_data['year_month']=external_data['年月'].dt.strftime('%Y-%m')"
   ]
  },
  {
   "cell_type": "code",
   "execution_count": 67,
   "metadata": {},
   "outputs": [],
   "source": [
    "external_data.rename(columns={'消費支出 二人以上の世帯 (%)':'consumption_expenditure', '日経平均 (円)':'nikkei'}, inplace=True)\n",
    "external_data.drop(columns='年月', inplace=True)"
   ]
  },
  {
   "cell_type": "code",
   "execution_count": 69,
   "metadata": {},
   "outputs": [],
   "source": [
    "external_data=external_data[(external_data['year_month']>='2016-01')&(external_data['year_month']<='2017-03')]"
   ]
  },
  {
   "cell_type": "code",
   "execution_count": 72,
   "metadata": {},
   "outputs": [],
   "source": [
    "features_related_days = pd.merge(features_temp1_with_info, external_data, how='left', on='year_month')\n",
    "features_related_days.drop(columns=['year','month','day','year_month'],inplace=True)"
   ]
  },
  {
   "cell_type": "code",
   "execution_count": 76,
   "metadata": {},
   "outputs": [],
   "source": [
    "features_related_days.to_csv('../data/features_related_days.csv')"
   ]
  },
  {
   "cell_type": "code",
   "execution_count": null,
   "metadata": {},
   "outputs": [],
   "source": []
  }
 ],
 "metadata": {
  "kernelspec": {
   "display_name": "Python 3",
   "language": "python",
   "name": "python3"
  },
  "language_info": {
   "codemirror_mode": {
    "name": "ipython",
    "version": 3
   },
   "file_extension": ".py",
   "mimetype": "text/x-python",
   "name": "python",
   "nbconvert_exporter": "python",
   "pygments_lexer": "ipython3",
   "version": "3.5.4"
  }
 },
 "nbformat": 4,
 "nbformat_minor": 2
}
