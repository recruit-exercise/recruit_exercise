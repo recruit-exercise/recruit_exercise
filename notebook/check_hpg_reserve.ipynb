{
 "cells": [
  {
   "cell_type": "markdown",
   "metadata": {},
   "source": [
    "# hpg_reserve.csv の内容を確認するnotebook"
   ]
  },
  {
   "cell_type": "markdown",
   "metadata": {},
   "source": [
    "# 情報まとめ"
   ]
  },
  {
   "cell_type": "markdown",
   "metadata": {},
   "source": [
    "hpg = ホットペッパーグルメの略称\n",
    "reserve = 予約  \n",
    "hpg_reserve.csv = ホットペッパーグルメの予約および来店情報"
   ]
  },
  {
   "cell_type": "markdown",
   "metadata": {},
   "source": [
    "## インポートおよびhpg_reserve.csvの読み込み"
   ]
  },
  {
   "cell_type": "code",
   "execution_count": null,
   "metadata": {},
   "outputs": [],
   "source": []
  },
  {
   "cell_type": "code",
   "execution_count": 1,
   "metadata": {},
   "outputs": [],
   "source": [
    "import pandas as pd\n",
    "import numpy as np\n",
    "import seaborn as sns\n",
    "import matplotlib.pyplot as plt\n",
    "import sys\n",
    "sys.path.append('../script/')\n",
    "import palade #palade.plotでパレード図を描画\n",
    "%matplotlib inline"
   ]
  },
  {
   "cell_type": "code",
   "execution_count": null,
   "metadata": {},
   "outputs": [],
   "source": []
  },
  {
   "cell_type": "code",
   "execution_count": 2,
   "metadata": {},
   "outputs": [],
   "source": [
    "hpg_reserve = pd.read_csv(\"../data/hpg_reserve.csv\")"
   ]
  },
  {
   "cell_type": "markdown",
   "metadata": {},
   "source": [
    "## hpg_reserveの容量および行列を確認"
   ]
  },
  {
   "cell_type": "markdown",
   "metadata": {},
   "source": [
    "- 容量  \n",
    "246576KB ≈ 240.7MB  \n",
    "- 行列  \n",
    "2,000,320行 4列"
   ]
  },
  {
   "cell_type": "code",
   "execution_count": 3,
   "metadata": {},
   "outputs": [
    {
     "name": "stdout",
     "output_type": "stream",
     "text": [
      "246576\t../data/hpg_reserve.csv\n"
     ]
    }
   ],
   "source": [
    "!du ../data/hpg_reserve.csv"
   ]
  },
  {
   "cell_type": "code",
   "execution_count": 4,
   "metadata": {},
   "outputs": [
    {
     "data": {
      "text/plain": [
       "(2000320, 4)"
      ]
     },
     "execution_count": 4,
     "metadata": {},
     "output_type": "execute_result"
    }
   ],
   "source": [
    "hpg_reserve.shape"
   ]
  },
  {
   "cell_type": "markdown",
   "metadata": {},
   "source": [
    "## データのカラム確認"
   ]
  },
  {
   "cell_type": "markdown",
   "metadata": {},
   "source": [
    "### カラムの意味"
   ]
  },
  {
   "cell_type": "markdown",
   "metadata": {},
   "source": [
    "- hpg_store_id (String)  \n",
    "ホットペッパー固有のレストランID\n",
    "- visit_datetime (String)  \n",
    "予約時のレストラン訪問予定時間\n",
    "- reserve_datetime (String)  \n",
    "予約をした時の時間\n",
    "- reserve_visitors (int64)  \n",
    "予約をした時の訪問予定人数\n",
    "\n",
    "    "
   ]
  },
  {
   "cell_type": "code",
   "execution_count": 5,
   "metadata": {},
   "outputs": [
    {
     "data": {
      "text/plain": [
       "Index(['hpg_store_id', 'visit_datetime', 'reserve_datetime',\n",
       "       'reserve_visitors'],\n",
       "      dtype='object')"
      ]
     },
     "execution_count": 5,
     "metadata": {},
     "output_type": "execute_result"
    }
   ],
   "source": [
    "hpg_reserve.columns"
   ]
  },
  {
   "cell_type": "code",
   "execution_count": 6,
   "metadata": {},
   "outputs": [
    {
     "data": {
      "text/plain": [
       "hpg_store_id        object\n",
       "visit_datetime      object\n",
       "reserve_datetime    object\n",
       "reserve_visitors     int64\n",
       "dtype: object"
      ]
     },
     "execution_count": 6,
     "metadata": {},
     "output_type": "execute_result"
    }
   ],
   "source": [
    "hpg_reserve.dtypes"
   ]
  },
  {
   "cell_type": "markdown",
   "metadata": {},
   "source": [
    "### カラムごとのユニーク数"
   ]
  },
  {
   "cell_type": "markdown",
   "metadata": {},
   "source": [
    "- hpg_store_id (String)  \n",
    "13,325\n",
    "- visit_datetime (String)  \n",
    "9,847\n",
    "- reserve_datetime (String)  \n",
    "11,450\n",
    "- reserve_visitors (int64)  \n",
    "99\n",
    "\n",
    "    "
   ]
  },
  {
   "cell_type": "code",
   "execution_count": 7,
   "metadata": {},
   "outputs": [
    {
     "data": {
      "text/plain": [
       "hpg_store_id        13325\n",
       "visit_datetime       9847\n",
       "reserve_datetime    11450\n",
       "reserve_visitors       99\n",
       "dtype: int64"
      ]
     },
     "execution_count": 7,
     "metadata": {},
     "output_type": "execute_result"
    }
   ],
   "source": [
    "hpg_reserve.nunique()"
   ]
  },
  {
   "cell_type": "markdown",
   "metadata": {},
   "source": [
    "## 欠損値およびnullの確認"
   ]
  },
  {
   "cell_type": "markdown",
   "metadata": {},
   "source": [
    "### 欠損値(nullおよび空文字)の確認"
   ]
  },
  {
   "cell_type": "code",
   "execution_count": 8,
   "metadata": {},
   "outputs": [
    {
     "data": {
      "text/plain": [
       "hpg_store_id        False\n",
       "visit_datetime      False\n",
       "reserve_datetime    False\n",
       "reserve_visitors    False\n",
       "dtype: bool"
      ]
     },
     "execution_count": 8,
     "metadata": {},
     "output_type": "execute_result"
    }
   ],
   "source": [
    "hpg_reserve.isnull().any(0) "
   ]
  },
  {
   "cell_type": "code",
   "execution_count": 9,
   "metadata": {},
   "outputs": [
    {
     "data": {
      "text/plain": [
       "hpg_store_id        False\n",
       "visit_datetime      False\n",
       "reserve_datetime    False\n",
       "reserve_visitors    False\n",
       "dtype: bool"
      ]
     },
     "execution_count": 9,
     "metadata": {},
     "output_type": "execute_result"
    }
   ],
   "source": [
    "(hpg_reserve == \"\").any(0)"
   ]
  },
  {
   "cell_type": "markdown",
   "metadata": {},
   "source": [
    "### 異常値の確認"
   ]
  },
  {
   "cell_type": "markdown",
   "metadata": {},
   "source": [
    "### visit_datetime"
   ]
  },
  {
   "cell_type": "markdown",
   "metadata": {},
   "source": [
    "\"2016-01-01 11:00:00\"~ \"2017-05-31 23:00:00\"が格納されている  \n",
    "異常な日付は確認できない"
   ]
  },
  {
   "cell_type": "code",
   "execution_count": 10,
   "metadata": {},
   "outputs": [],
   "source": [
    "hpg_reserve[\"visit_datetime\"] = pd.to_datetime(hpg_reserve[\"visit_datetime\"]) #datetimeに変換"
   ]
  },
  {
   "cell_type": "code",
   "execution_count": 11,
   "metadata": {},
   "outputs": [
    {
     "name": "stdout",
     "output_type": "stream",
     "text": [
      "最も古い日付 2016-01-01 11:00:00 \n",
      "最新の日付 2017-05-31 23:00:00\n"
     ]
    }
   ],
   "source": [
    "print(\"最も古い日付\",hpg_reserve[\"visit_datetime\"].min(),\n",
    "      \"\\n最新の日付\",hpg_reserve[\"visit_datetime\"].max())"
   ]
  },
  {
   "cell_type": "markdown",
   "metadata": {},
   "source": [
    "### reserve_datetime"
   ]
  },
  {
   "cell_type": "markdown",
   "metadata": {},
   "source": [
    "\"2016-01-01 00:00:00\"~ \"2017-04-22 23:00:00\"が格納されている  \n",
    "異常な日付は確認できない"
   ]
  },
  {
   "cell_type": "code",
   "execution_count": 12,
   "metadata": {},
   "outputs": [],
   "source": [
    "hpg_reserve[\"reserve_datetime\"] = pd.to_datetime(hpg_reserve[\"reserve_datetime\"]) #datetimeに変換"
   ]
  },
  {
   "cell_type": "code",
   "execution_count": 13,
   "metadata": {},
   "outputs": [
    {
     "name": "stdout",
     "output_type": "stream",
     "text": [
      "最も古い日付 2016-01-01 00:00:00 \n",
      "最新の日付 2017-04-22 23:00:00\n"
     ]
    }
   ],
   "source": [
    "print(\"最も古い日付\",hpg_reserve[\"reserve_datetime\"].min(),\n",
    "      \"\\n最新の日付\",hpg_reserve[\"reserve_datetime\"].max())"
   ]
  },
  {
   "cell_type": "markdown",
   "metadata": {},
   "source": [
    "### visit_datetime - reserve_datetime"
   ]
  },
  {
   "cell_type": "markdown",
   "metadata": {},
   "source": [
    "何日、何時間、何分前に予約をしたかを確認  \n",
    "- 予約時間と訪問時間が同じ場合が存在 (4884行)  \n",
    "    例: 訪問2016-01-01 17:00:00 　予約2016-01-01 17:00"
   ]
  },
  {
   "cell_type": "markdown",
   "metadata": {},
   "source": []
  },
  {
   "cell_type": "markdown",
   "metadata": {},
   "source": [
    "diff_visit_reserve = 訪問時間 - 予約時間"
   ]
  },
  {
   "cell_type": "code",
   "execution_count": 14,
   "metadata": {},
   "outputs": [],
   "source": [
    "hpg_reserve[\"diff_visit_reserve\"] = hpg_reserve[\"visit_datetime\"] - hpg_reserve[\"reserve_datetime\"]"
   ]
  },
  {
   "cell_type": "code",
   "execution_count": null,
   "metadata": {},
   "outputs": [],
   "source": []
  },
  {
   "cell_type": "markdown",
   "metadata": {},
   "source": []
  },
  {
   "cell_type": "markdown",
   "metadata": {},
   "source": [
    "diff_visit_reserveの最小値を確認  \n",
    "'0 days 00:00:00'を確認"
   ]
  },
  {
   "cell_type": "code",
   "execution_count": 15,
   "metadata": {},
   "outputs": [
    {
     "data": {
      "text/plain": [
       "Timedelta('0 days 00:00:00')"
      ]
     },
     "execution_count": 15,
     "metadata": {},
     "output_type": "execute_result"
    }
   ],
   "source": [
    "hpg_reserve[\"diff_visit_reserve\"].min()"
   ]
  },
  {
   "cell_type": "markdown",
   "metadata": {},
   "source": [
    "予約時間と訪問時間が同じ回数"
   ]
  },
  {
   "cell_type": "code",
   "execution_count": 16,
   "metadata": {},
   "outputs": [
    {
     "data": {
      "text/plain": [
       "4884"
      ]
     },
     "execution_count": 16,
     "metadata": {},
     "output_type": "execute_result"
    }
   ],
   "source": [
    "len(hpg_reserve[hpg_reserve[\"diff_visit_reserve\"] == \"0 days 00:00:00\"])"
   ]
  },
  {
   "cell_type": "markdown",
   "metadata": {},
   "source": [
    "diff_visit_reserveの最大値を確認  \n",
    "'368 days 03:00:00'を確認  \n",
    "一年前に予約するのは現実的?(異常値なのか不明)"
   ]
  },
  {
   "cell_type": "code",
   "execution_count": 17,
   "metadata": {},
   "outputs": [
    {
     "data": {
      "text/plain": [
       "Timedelta('368 days 03:00:00')"
      ]
     },
     "execution_count": 17,
     "metadata": {},
     "output_type": "execute_result"
    }
   ],
   "source": [
    "hpg_reserve[\"diff_visit_reserve\"].max()"
   ]
  },
  {
   "cell_type": "markdown",
   "metadata": {},
   "source": [
    "何日前に予約したか"
   ]
  },
  {
   "cell_type": "code",
   "execution_count": 18,
   "metadata": {},
   "outputs": [],
   "source": [
    "hpg_reserve[\"diff_visit_reserve_days\"] = hpg_reserve[\"diff_visit_reserve\"].map(lambda x: x.days)"
   ]
  },
  {
   "cell_type": "markdown",
   "metadata": {},
   "source": [
    "### 何日前予約が多いかパレード図でプロット"
   ]
  },
  {
   "cell_type": "markdown",
   "metadata": {},
   "source": [
    "一週間内の予約が全体の7割を示していることが確認できる"
   ]
  },
  {
   "cell_type": "code",
   "execution_count": 57,
   "metadata": {},
   "outputs": [
    {
     "name": "stderr",
     "output_type": "stream",
     "text": [
      "/Users/ryo_ozaki/miniconda3/envs/python-basics/lib/python3.6/site-packages/matplotlib/__init__.py:1855: MatplotlibDeprecationWarning: The *left* kwarg to `bar` is deprecated use *x* instead. Support for *left* will be removed in Matplotlib 3.0\n",
      "  return func(ax, *args, **kwargs)\n"
     ]
    },
    {
     "data": {
      "image/png": "[encoded data removed]",
      "text/plain": [
       "<Figure size 432x288 with 2 Axes>"
      ]
     },
     "metadata": {},
     "output_type": "display_data"
    }
   ],
   "source": [
    "palade.count_plot(hpg_reserve,\"diff_visit_reserve_days\",x_numbers=20,ABC=True,hline_cum=0.7,ylabel_name=\"reserve_count\")"
   ]
  },
  {
   "cell_type": "markdown",
   "metadata": {},
   "source": [
    "### reserve_visitors"
   ]
  },
  {
   "cell_type": "markdown",
   "metadata": {},
   "source": [
    "reserve_visitors → 1-100 (92は除く)"
   ]
  },
  {
   "cell_type": "code",
   "execution_count": 20,
   "metadata": {},
   "outputs": [
    {
     "name": "stdout",
     "output_type": "stream",
     "text": [
      "[  1   2   3   4   5   6   7   8   9  10  11  12  13  14  15  16  17  18\n",
      "  19  20  21  22  23  24  25  26  27  28  29  30  31  32  33  34  35  36\n",
      "  37  38  39  40  41  42  43  44  45  46  47  48  49  50  51  52  53  54\n",
      "  55  56  57  58  59  60  61  62  63  64  65  66  67  68  69  70  71  72\n",
      "  73  74  75  76  77  78  79  80  81  82  83  84  85  86  87  88  89  90\n",
      "  91  93  94  95  96  97  98  99 100]\n"
     ]
    }
   ],
   "source": [
    "print(np.sort(hpg_reserve[\"reserve_visitors\"].unique()))"
   ]
  },
  {
   "cell_type": "code",
   "execution_count": null,
   "metadata": {},
   "outputs": [],
   "source": []
  },
  {
   "cell_type": "markdown",
   "metadata": {},
   "source": [
    "### 予約者数でパレード図"
   ]
  },
  {
   "cell_type": "code",
   "execution_count": 55,
   "metadata": {},
   "outputs": [
    {
     "name": "stderr",
     "output_type": "stream",
     "text": [
      "/Users/ryo_ozaki/miniconda3/envs/python-basics/lib/python3.6/site-packages/matplotlib/__init__.py:1855: MatplotlibDeprecationWarning: The *left* kwarg to `bar` is deprecated use *x* instead. Support for *left* will be removed in Matplotlib 3.0\n",
      "  return func(ax, *args, **kwargs)\n"
     ]
    },
    {
     "data": {
      "image/png": "[encoded data removed]",
      "text/plain": [
       "<Figure size 432x288 with 2 Axes>"
      ]
     },
     "metadata": {},
     "output_type": "display_data"
    }
   ],
   "source": [
    "palade.count_plot(hpg_reserve,\"reserve_visitors\",x_numbers=20,rotation=90,ABC= True,hline_cum=0.7,ylabel_name=\"visit_count\")"
   ]
  },
  {
   "cell_type": "markdown",
   "metadata": {},
   "source": [
    "### diff_visit_reserve_daysでGroup化して予約者数合計をパレード図"
   ]
  },
  {
   "cell_type": "code",
   "execution_count": 54,
   "metadata": {},
   "outputs": [
    {
     "name": "stderr",
     "output_type": "stream",
     "text": [
      "/Users/ryo_ozaki/miniconda3/envs/python-basics/lib/python3.6/site-packages/matplotlib/__init__.py:1855: MatplotlibDeprecationWarning: The *left* kwarg to `bar` is deprecated use *x* instead. Support for *left* will be removed in Matplotlib 3.0\n",
      "  return func(ax, *args, **kwargs)\n"
     ]
    },
    {
     "data": {
      "image/png": "[encoded data removed]",
      "text/plain": [
       "<Figure size 432x288 with 2 Axes>"
      ]
     },
     "metadata": {},
     "output_type": "display_data"
    }
   ],
   "source": [
    "palade.group_sum_plot(hpg_reserve,\"diff_visit_reserve_days\",\"reserve_visitors\",x_numbers=30,ABC=True,hline_cum = 0.7,ylabel_name=\"visiter_sum\")"
   ]
  },
  {
   "cell_type": "markdown",
   "metadata": {},
   "source": [
    "### 曜日のパレード図 "
   ]
  },
  {
   "cell_type": "markdown",
   "metadata": {},
   "source": [
    "訪問日時から曜日を算出  \n",
    "visit_weekday → 何曜日か"
   ]
  },
  {
   "cell_type": "code",
   "execution_count": 23,
   "metadata": {},
   "outputs": [],
   "source": [
    "hpg_reserve[\"visit_weekday\"] = hpg_reserve[\"visit_datetime\"].dt.weekday_name"
   ]
  },
  {
   "cell_type": "code",
   "execution_count": 53,
   "metadata": {},
   "outputs": [
    {
     "name": "stderr",
     "output_type": "stream",
     "text": [
      "/Users/ryo_ozaki/miniconda3/envs/python-basics/lib/python3.6/site-packages/matplotlib/__init__.py:1855: MatplotlibDeprecationWarning: The *left* kwarg to `bar` is deprecated use *x* instead. Support for *left* will be removed in Matplotlib 3.0\n",
      "  return func(ax, *args, **kwargs)\n"
     ]
    },
    {
     "data": {
      "image/png": "[encoded data removed]",
      "text/plain": [
       "<Figure size 432x288 with 2 Axes>"
      ]
     },
     "metadata": {},
     "output_type": "display_data"
    }
   ],
   "source": [
    "palade.count_plot(hpg_reserve,\"visit_weekday\",x_numbers=20,rotation=90,ABC= True,hline_cum=0.7,ylabel_name=\"visit_count\")"
   ]
  },
  {
   "cell_type": "markdown",
   "metadata": {},
   "source": [
    "### 訪問曜日でGroup、予約人数の合計でパレード"
   ]
  },
  {
   "cell_type": "code",
   "execution_count": 52,
   "metadata": {},
   "outputs": [
    {
     "name": "stderr",
     "output_type": "stream",
     "text": [
      "/Users/ryo_ozaki/miniconda3/envs/python-basics/lib/python3.6/site-packages/matplotlib/__init__.py:1855: MatplotlibDeprecationWarning: The *left* kwarg to `bar` is deprecated use *x* instead. Support for *left* will be removed in Matplotlib 3.0\n",
      "  return func(ax, *args, **kwargs)\n"
     ]
    },
    {
     "data": {
      "image/png": "[encoded data removed]",
      "text/plain": [
       "<Figure size 432x288 with 2 Axes>"
      ]
     },
     "metadata": {},
     "output_type": "display_data"
    }
   ],
   "source": [
    "palade.group_sum_plot(hpg_reserve,\"visit_weekday\",\"reserve_visitors\",x_numbers=30,rotation=90,ABC=True,hline_cum = 0.7,ylabel_name=\"visiter_sum\")"
   ]
  },
  {
   "cell_type": "code",
   "execution_count": null,
   "metadata": {},
   "outputs": [],
   "source": []
  },
  {
   "cell_type": "code",
   "execution_count": null,
   "metadata": {},
   "outputs": [],
   "source": []
  },
  {
   "cell_type": "markdown",
   "metadata": {},
   "source": [
    "### 月のパレード図 "
   ]
  },
  {
   "cell_type": "markdown",
   "metadata": {},
   "source": [
    "訪問日時から月を算出  \n",
    "visit_month → 何月か"
   ]
  },
  {
   "cell_type": "code",
   "execution_count": 39,
   "metadata": {},
   "outputs": [],
   "source": [
    "hpg_reserve[\"visit_month\"] = hpg_reserve[\"visit_datetime\"].dt.month"
   ]
  },
  {
   "cell_type": "code",
   "execution_count": 51,
   "metadata": {},
   "outputs": [
    {
     "name": "stderr",
     "output_type": "stream",
     "text": [
      "/Users/ryo_ozaki/miniconda3/envs/python-basics/lib/python3.6/site-packages/matplotlib/__init__.py:1855: MatplotlibDeprecationWarning: The *left* kwarg to `bar` is deprecated use *x* instead. Support for *left* will be removed in Matplotlib 3.0\n",
      "  return func(ax, *args, **kwargs)\n"
     ]
    },
    {
     "data": {
      "image/png": "[encoded data removed]",
      "text/plain": [
       "<Figure size 432x288 with 2 Axes>"
      ]
     },
     "metadata": {},
     "output_type": "display_data"
    }
   ],
   "source": [
    "palade.count_plot(hpg_reserve,\"visit_month\",x_numbers=20,rotation=90,ABC= True,hline_cum=0.7,ylabel_name=\"visit_count\")"
   ]
  },
  {
   "cell_type": "markdown",
   "metadata": {},
   "source": [
    "### 月でGroup化し、予約人数の合計でパレード図 "
   ]
  },
  {
   "cell_type": "code",
   "execution_count": 50,
   "metadata": {},
   "outputs": [
    {
     "name": "stderr",
     "output_type": "stream",
     "text": [
      "/Users/ryo_ozaki/miniconda3/envs/python-basics/lib/python3.6/site-packages/matplotlib/__init__.py:1855: MatplotlibDeprecationWarning: The *left* kwarg to `bar` is deprecated use *x* instead. Support for *left* will be removed in Matplotlib 3.0\n",
      "  return func(ax, *args, **kwargs)\n"
     ]
    },
    {
     "data": {
      "image/png": "[encoded data removed]",
      "text/plain": [
       "<Figure size 432x288 with 2 Axes>"
      ]
     },
     "metadata": {},
     "output_type": "display_data"
    }
   ],
   "source": [
    "palade.group_sum_plot(hpg_reserve,\"visit_month\",\"reserve_visitors\",x_numbers=30,ABC=True,hline_cum = 0.7,ylabel_name=\"visiter_sum\")"
   ]
  },
  {
   "cell_type": "code",
   "execution_count": null,
   "metadata": {},
   "outputs": [],
   "source": []
  },
  {
   "cell_type": "markdown",
   "metadata": {},
   "source": [
    "### 日のパレード図 "
   ]
  },
  {
   "cell_type": "markdown",
   "metadata": {},
   "source": [
    "訪問日時から月を算出  \n",
    "visit_day → 何日か"
   ]
  },
  {
   "cell_type": "code",
   "execution_count": 42,
   "metadata": {},
   "outputs": [],
   "source": [
    "hpg_reserve[\"visit_day\"] = hpg_reserve[\"visit_datetime\"].dt.day"
   ]
  },
  {
   "cell_type": "code",
   "execution_count": 48,
   "metadata": {},
   "outputs": [
    {
     "name": "stderr",
     "output_type": "stream",
     "text": [
      "/Users/ryo_ozaki/miniconda3/envs/python-basics/lib/python3.6/site-packages/matplotlib/__init__.py:1855: MatplotlibDeprecationWarning: The *left* kwarg to `bar` is deprecated use *x* instead. Support for *left* will be removed in Matplotlib 3.0\n",
      "  return func(ax, *args, **kwargs)\n"
     ]
    },
    {
     "data": {
      "image/png": "[encoded data removed]",
      "text/plain": [
       "<Figure size 432x288 with 2 Axes>"
      ]
     },
     "metadata": {},
     "output_type": "display_data"
    }
   ],
   "source": [
    "palade.count_plot(hpg_reserve,\"visit_day\",x_numbers=31,rotation=90,ABC= True,hline_cum=0.7,ylabel_name=\"visit_count\")"
   ]
  },
  {
   "cell_type": "markdown",
   "metadata": {},
   "source": [
    "### 日でGroup化し、予約者数の合計でパレード図 "
   ]
  },
  {
   "cell_type": "markdown",
   "metadata": {},
   "source": [
    "訪問日時から月を算出  \n",
    "visit_day → 何日か\n",
    "\n",
    "*31日は登場回数がそもそも少ない"
   ]
  },
  {
   "cell_type": "code",
   "execution_count": 28,
   "metadata": {},
   "outputs": [],
   "source": [
    "hpg_reserve[\"visit_day\"] = hpg_reserve[\"visit_datetime\"].dt.day"
   ]
  },
  {
   "cell_type": "code",
   "execution_count": 49,
   "metadata": {},
   "outputs": [
    {
     "name": "stderr",
     "output_type": "stream",
     "text": [
      "/Users/ryo_ozaki/miniconda3/envs/python-basics/lib/python3.6/site-packages/matplotlib/__init__.py:1855: MatplotlibDeprecationWarning: The *left* kwarg to `bar` is deprecated use *x* instead. Support for *left* will be removed in Matplotlib 3.0\n",
      "  return func(ax, *args, **kwargs)\n"
     ]
    },
    {
     "data": {
      "image/png": "[encoded data removed]",
      "text/plain": [
       "<Figure size 432x288 with 2 Axes>"
      ]
     },
     "metadata": {},
     "output_type": "display_data"
    }
   ],
   "source": [
    "palade.group_sum_plot(hpg_reserve,\"visit_day\",\"reserve_visitors\",x_numbers=31,rotation=90,ABC=True,hline_cum = 0.7,ylabel_name=\"visiter_sum\")"
   ]
  },
  {
   "cell_type": "markdown",
   "metadata": {},
   "source": [
    "visit_year → 何年に訪問\n",
    "visit_ymd → 何年何月何日に訪問\n",
    "visit_ym → 何年何月に訪問"
   ]
  },
  {
   "cell_type": "code",
   "execution_count": 68,
   "metadata": {},
   "outputs": [],
   "source": [
    "hpg_reserve[\"visit_year\"] = hpg_reserve[\"visit_datetime\"].dt.year"
   ]
  },
  {
   "cell_type": "code",
   "execution_count": 79,
   "metadata": {},
   "outputs": [],
   "source": [
    "hpg_reserve[\"visit_ymd\"] = hpg_reserve[\"visit_year\"].astype(str)+\"-\"+hpg_reserve[\"visit_month\"].astype(str)+\"-\"+hpg_reserve[\"visit_day\"].astype(str)"
   ]
  },
  {
   "cell_type": "code",
   "execution_count": 83,
   "metadata": {},
   "outputs": [],
   "source": [
    "hpg_reserve[\"visit_ymd\"] = pd.to_datetime(hpg_reserve[\"visit_ymd\"])"
   ]
  },
  {
   "cell_type": "code",
   "execution_count": 87,
   "metadata": {},
   "outputs": [],
   "source": [
    "hpg_reserve[\"visit_ym\"] = hpg_reserve[\"visit_year\"].astype(str)+\"-\"+hpg_reserve[\"visit_month\"].astype(str)"
   ]
  },
  {
   "cell_type": "code",
   "execution_count": 88,
   "metadata": {},
   "outputs": [],
   "source": [
    "hpg_reserve[\"visit_ym\"] = pd.to_datetime(hpg_reserve[\"visit_ym\"])"
   ]
  },
  {
   "cell_type": "code",
   "execution_count": 96,
   "metadata": {},
   "outputs": [
    {
     "data": {
      "text/plain": [
       "<matplotlib.axes._subplots.AxesSubplot at 0x189847828>"
      ]
     },
     "execution_count": 96,
     "metadata": {},
     "output_type": "execute_result"
    },
    {
     "data": {
      "image/png": "[encoded data removed]",
      "text/plain": [
       "<Figure size 432x288 with 1 Axes>"
      ]
     },
     "metadata": {},
     "output_type": "display_data"
    }
   ],
   "source": [
    "hpg_reserve.groupby(\"visit_ym\")[\"hpg_store_id\"].count().plot(ylim=[0,300000])"
   ]
  },
  {
   "cell_type": "code",
   "execution_count": null,
   "metadata": {},
   "outputs": [],
   "source": []
  },
  {
   "cell_type": "markdown",
   "metadata": {},
   "source": [
    "reserve_year → 何年に訪問\n",
    "reserve_ymd → 何年何月何日に訪問\n",
    "reserve_ym → 何年何月に訪問"
   ]
  },
  {
   "cell_type": "code",
   "execution_count": 92,
   "metadata": {},
   "outputs": [],
   "source": [
    "hpg_reserve[\"reserve_year\"] = hpg_reserve[\"reserve_datetime\"].dt.year\n",
    "hpg_reserve[\"reserve_month\"] = hpg_reserve[\"reserve_datetime\"].dt.month\n",
    "hpg_reserve[\"reserve_day\"] = hpg_reserve[\"reserve_datetime\"].dt.day\n",
    "hpg_reserve[\"reserve_ymd\"] = hpg_reserve[\"reserve_year\"].astype(str)+\"-\"+hpg_reserve[\"reserve_month\"].astype(str)+\"-\"+hpg_reserve[\"reserve_day\"].astype(str)\n",
    "hpg_reserve[\"reserve_ymd\"] = pd.to_datetime(hpg_reserve[\"reserve_ymd\"])\n",
    "hpg_reserve[\"reserve_ym\"] = hpg_reserve[\"reserve_year\"].astype(str)+\"-\"+hpg_reserve[\"reserve_month\"].astype(str)\n",
    "hpg_reserve[\"reserve_ym\"] = pd.to_datetime(hpg_reserve[\"reserve_ym\"])"
   ]
  },
  {
   "cell_type": "code",
   "execution_count": 95,
   "metadata": {},
   "outputs": [
    {
     "data": {
      "text/plain": [
       "<matplotlib.axes._subplots.AxesSubplot at 0x189896978>"
      ]
     },
     "execution_count": 95,
     "metadata": {},
     "output_type": "execute_result"
    },
    {
     "data": {
      "image/png": "[encoded data removed]",
      "text/plain": [
       "<Figure size 432x288 with 1 Axes>"
      ]
     },
     "metadata": {},
     "output_type": "display_data"
    }
   ],
   "source": [
    "hpg_reserve.groupby(\"reserve_ym\")[\"hpg_store_id\"].count().plot(ylim=[0,300000])"
   ]
  },
  {
   "cell_type": "code",
   "execution_count": null,
   "metadata": {},
   "outputs": [],
   "source": []
  },
  {
   "cell_type": "code",
   "execution_count": null,
   "metadata": {},
   "outputs": [],
   "source": []
  },
  {
   "cell_type": "code",
   "execution_count": null,
   "metadata": {},
   "outputs": [],
   "source": []
  },
  {
   "cell_type": "code",
   "execution_count": null,
   "metadata": {},
   "outputs": [],
   "source": []
  },
  {
   "cell_type": "code",
   "execution_count": null,
   "metadata": {},
   "outputs": [],
   "source": []
  },
  {
   "cell_type": "code",
   "execution_count": null,
   "metadata": {},
   "outputs": [],
   "source": []
  },
  {
   "cell_type": "code",
   "execution_count": null,
   "metadata": {},
   "outputs": [],
   "source": []
  }
 ],
 "metadata": {
  "kernelspec": {
   "display_name": "Python 3",
   "language": "python",
   "name": "python3"
  },
  "language_info": {
   "codemirror_mode": {
    "name": "ipython",
    "version": 3
   },
   "file_extension": ".py",
   "mimetype": "text/x-python",
   "name": "python",
   "nbconvert_exporter": "python",
   "pygments_lexer": "ipython3",
   "version": "3.6.5"
  }
 },
 "nbformat": 4,
 "nbformat_minor": 2
}
