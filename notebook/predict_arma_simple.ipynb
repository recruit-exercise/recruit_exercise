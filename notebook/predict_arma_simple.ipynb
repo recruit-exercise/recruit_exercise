{
 "cells": [
  {
   "cell_type": "markdown",
   "metadata": {},
   "source": [
    "# ARMAモデルを全店舗に適用して予測"
   ]
  },
  {
   "cell_type": "markdown",
   "metadata": {},
   "source": [
    "1. データの前処理（集計期間が店舗ごとに異なるため）\n",
    "   1. 集計が始まる前のVisitorsをすべてNullにする\n",
    "   2. 集計期間の中で欠損した日付がある場合は0で補填\n",
    "2. 店舗ごとにARMAモデルを適用\n",
    "   1. 差分をとる\n",
    "   2. ARMAで学習\n",
    "   3. 学習結果で予測\n",
    "   4. 差分をもとに戻す\n",
    "3. Submit file を作成し、出力"
   ]
  },
  {
   "cell_type": "code",
   "execution_count": 1,
   "metadata": {},
   "outputs": [],
   "source": [
    "import os\n",
    "import datetime\n",
    "import numpy as np\n",
    "import pandas as pd\n",
    "import matplotlib.pyplot as plt\n",
    "import seaborn as sns\n",
    "import statsmodels.tsa.api as smt\n",
    "import statsmodels.api as sm\n",
    "from statsmodels.tsa.arima_model import AR, ARMA, ARIMA\n",
    "from sklearn import metrics\n",
    "from IPython.display import  display\n",
    "sns.set_style('whitegrid')\n",
    "%matplotlib inline"
   ]
  },
  {
   "cell_type": "code",
   "execution_count": 2,
   "metadata": {},
   "outputs": [],
   "source": [
    "data_dir = '../data/'"
   ]
  },
  {
   "cell_type": "markdown",
   "metadata": {},
   "source": [
    "## データの読み込み\n",
    "もとデータに存在しなかった日付をvisitors=nanとして行を追加したテーブル\n",
    "\n",
    "features_format.csv と test_data.csv を縦に結合する"
   ]
  },
  {
   "cell_type": "code",
   "execution_count": 3,
   "metadata": {},
   "outputs": [],
   "source": [
    "# データ読み込み関数\n",
    "def import_csv(file_name='features_format', data_dir = '../data/', datetime_keys='visit_date', sort_keys=['air_store_id', 'visit_date']):\n",
    "    df = pd.read_csv(os.path.join(data_dir, file_name + '.csv'), engine='python')\n",
    "    df[datetime_keys] = pd.to_datetime(df[datetime_keys])\n",
    "    df = df.sort_values(by=sort_keys)\n",
    "    return df\n",
    "    "
   ]
  },
  {
   "cell_type": "code",
   "execution_count": 4,
   "metadata": {},
   "outputs": [
    {
     "data": {
      "text/html": [
       "<div>\n",
       "<style scoped>\n",
       "    .dataframe tbody tr th:only-of-type {\n",
       "        vertical-align: middle;\n",
       "    }\n",
       "\n",
       "    .dataframe tbody tr th {\n",
       "        vertical-align: top;\n",
       "    }\n",
       "\n",
       "    .dataframe thead th {\n",
       "        text-align: right;\n",
       "    }\n",
       "</style>\n",
       "<table border=\"1\" class=\"dataframe\">\n",
       "  <thead>\n",
       "    <tr style=\"text-align: right;\">\n",
       "      <th></th>\n",
       "      <th>air_store_id</th>\n",
       "      <th>visit_date</th>\n",
       "      <th>visitors</th>\n",
       "    </tr>\n",
       "  </thead>\n",
       "  <tbody>\n",
       "    <tr>\n",
       "      <th>0</th>\n",
       "      <td>air_00a91d42b08b08d9</td>\n",
       "      <td>2016-01-01</td>\n",
       "      <td>NaN</td>\n",
       "    </tr>\n",
       "    <tr>\n",
       "      <th>1</th>\n",
       "      <td>air_00a91d42b08b08d9</td>\n",
       "      <td>2016-01-02</td>\n",
       "      <td>NaN</td>\n",
       "    </tr>\n",
       "    <tr>\n",
       "      <th>2</th>\n",
       "      <td>air_00a91d42b08b08d9</td>\n",
       "      <td>2016-01-03</td>\n",
       "      <td>NaN</td>\n",
       "    </tr>\n",
       "    <tr>\n",
       "      <th>3</th>\n",
       "      <td>air_00a91d42b08b08d9</td>\n",
       "      <td>2016-01-04</td>\n",
       "      <td>NaN</td>\n",
       "    </tr>\n",
       "    <tr>\n",
       "      <th>4</th>\n",
       "      <td>air_00a91d42b08b08d9</td>\n",
       "      <td>2016-01-05</td>\n",
       "      <td>NaN</td>\n",
       "    </tr>\n",
       "  </tbody>\n",
       "</table>\n",
       "</div>"
      ],
      "text/plain": [
       "           air_store_id visit_date  visitors\n",
       "0  air_00a91d42b08b08d9 2016-01-01       NaN\n",
       "1  air_00a91d42b08b08d9 2016-01-02       NaN\n",
       "2  air_00a91d42b08b08d9 2016-01-03       NaN\n",
       "3  air_00a91d42b08b08d9 2016-01-04       NaN\n",
       "4  air_00a91d42b08b08d9 2016-01-05       NaN"
      ]
     },
     "execution_count": 4,
     "metadata": {},
     "output_type": "execute_result"
    }
   ],
   "source": [
    "features_format = import_csv('features_format')\n",
    "features_format.head()"
   ]
  },
  {
   "cell_type": "code",
   "execution_count": 5,
   "metadata": {},
   "outputs": [
    {
     "data": {
      "text/html": [
       "<div>\n",
       "<style scoped>\n",
       "    .dataframe tbody tr th:only-of-type {\n",
       "        vertical-align: middle;\n",
       "    }\n",
       "\n",
       "    .dataframe tbody tr th {\n",
       "        vertical-align: top;\n",
       "    }\n",
       "\n",
       "    .dataframe thead th {\n",
       "        text-align: right;\n",
       "    }\n",
       "</style>\n",
       "<table border=\"1\" class=\"dataframe\">\n",
       "  <thead>\n",
       "    <tr style=\"text-align: right;\">\n",
       "      <th></th>\n",
       "      <th>air_store_id</th>\n",
       "      <th>visit_date</th>\n",
       "      <th>id</th>\n",
       "      <th>visitors</th>\n",
       "    </tr>\n",
       "  </thead>\n",
       "  <tbody>\n",
       "    <tr>\n",
       "      <th>0</th>\n",
       "      <td>air_00a91d42b08b08d9</td>\n",
       "      <td>2017-03-15</td>\n",
       "      <td>air_00a91d42b08b08d9_2017-03-15</td>\n",
       "      <td>42.0</td>\n",
       "    </tr>\n",
       "    <tr>\n",
       "      <th>1</th>\n",
       "      <td>air_00a91d42b08b08d9</td>\n",
       "      <td>2017-03-16</td>\n",
       "      <td>air_00a91d42b08b08d9_2017-03-16</td>\n",
       "      <td>39.0</td>\n",
       "    </tr>\n",
       "    <tr>\n",
       "      <th>2</th>\n",
       "      <td>air_00a91d42b08b08d9</td>\n",
       "      <td>2017-03-17</td>\n",
       "      <td>air_00a91d42b08b08d9_2017-03-17</td>\n",
       "      <td>37.0</td>\n",
       "    </tr>\n",
       "    <tr>\n",
       "      <th>3</th>\n",
       "      <td>air_00a91d42b08b08d9</td>\n",
       "      <td>2017-03-18</td>\n",
       "      <td>air_00a91d42b08b08d9_2017-03-18</td>\n",
       "      <td>4.0</td>\n",
       "    </tr>\n",
       "    <tr>\n",
       "      <th>4</th>\n",
       "      <td>air_00a91d42b08b08d9</td>\n",
       "      <td>2017-03-19</td>\n",
       "      <td>air_00a91d42b08b08d9_2017-03-19</td>\n",
       "      <td>NaN</td>\n",
       "    </tr>\n",
       "  </tbody>\n",
       "</table>\n",
       "</div>"
      ],
      "text/plain": [
       "           air_store_id visit_date                               id  visitors\n",
       "0  air_00a91d42b08b08d9 2017-03-15  air_00a91d42b08b08d9_2017-03-15      42.0\n",
       "1  air_00a91d42b08b08d9 2017-03-16  air_00a91d42b08b08d9_2017-03-16      39.0\n",
       "2  air_00a91d42b08b08d9 2017-03-17  air_00a91d42b08b08d9_2017-03-17      37.0\n",
       "3  air_00a91d42b08b08d9 2017-03-18  air_00a91d42b08b08d9_2017-03-18       4.0\n",
       "4  air_00a91d42b08b08d9 2017-03-19  air_00a91d42b08b08d9_2017-03-19       NaN"
      ]
     },
     "execution_count": 5,
     "metadata": {},
     "output_type": "execute_result"
    }
   ],
   "source": [
    "test_data = import_csv('test_data')\n",
    "test_data.head()"
   ]
  },
  {
   "cell_type": "code",
   "execution_count": 6,
   "metadata": {},
   "outputs": [
    {
     "data": {
      "text/html": [
       "<div>\n",
       "<style scoped>\n",
       "    .dataframe tbody tr th:only-of-type {\n",
       "        vertical-align: middle;\n",
       "    }\n",
       "\n",
       "    .dataframe tbody tr th {\n",
       "        vertical-align: top;\n",
       "    }\n",
       "\n",
       "    .dataframe thead th {\n",
       "        text-align: right;\n",
       "    }\n",
       "</style>\n",
       "<table border=\"1\" class=\"dataframe\">\n",
       "  <thead>\n",
       "    <tr style=\"text-align: right;\">\n",
       "      <th></th>\n",
       "      <th>index</th>\n",
       "      <th>air_store_id</th>\n",
       "      <th>visit_date</th>\n",
       "      <th>visitors</th>\n",
       "    </tr>\n",
       "  </thead>\n",
       "  <tbody>\n",
       "    <tr>\n",
       "      <th>0</th>\n",
       "      <td>0</td>\n",
       "      <td>air_00a91d42b08b08d9</td>\n",
       "      <td>2016-01-01</td>\n",
       "      <td>NaN</td>\n",
       "    </tr>\n",
       "    <tr>\n",
       "      <th>1</th>\n",
       "      <td>1</td>\n",
       "      <td>air_00a91d42b08b08d9</td>\n",
       "      <td>2016-01-02</td>\n",
       "      <td>NaN</td>\n",
       "    </tr>\n",
       "    <tr>\n",
       "      <th>2</th>\n",
       "      <td>2</td>\n",
       "      <td>air_00a91d42b08b08d9</td>\n",
       "      <td>2016-01-03</td>\n",
       "      <td>NaN</td>\n",
       "    </tr>\n",
       "    <tr>\n",
       "      <th>3</th>\n",
       "      <td>3</td>\n",
       "      <td>air_00a91d42b08b08d9</td>\n",
       "      <td>2016-01-04</td>\n",
       "      <td>NaN</td>\n",
       "    </tr>\n",
       "    <tr>\n",
       "      <th>4</th>\n",
       "      <td>4</td>\n",
       "      <td>air_00a91d42b08b08d9</td>\n",
       "      <td>2016-01-05</td>\n",
       "      <td>NaN</td>\n",
       "    </tr>\n",
       "  </tbody>\n",
       "</table>\n",
       "</div>"
      ],
      "text/plain": [
       "   index          air_store_id visit_date  visitors\n",
       "0      0  air_00a91d42b08b08d9 2016-01-01       NaN\n",
       "1      1  air_00a91d42b08b08d9 2016-01-02       NaN\n",
       "2      2  air_00a91d42b08b08d9 2016-01-03       NaN\n",
       "3      3  air_00a91d42b08b08d9 2016-01-04       NaN\n",
       "4      4  air_00a91d42b08b08d9 2016-01-05       NaN"
      ]
     },
     "execution_count": 6,
     "metadata": {},
     "output_type": "execute_result"
    }
   ],
   "source": [
    "train = pd.concat([features_format, test_data[['air_store_id', 'visit_date', 'visitors']]], axis=0)\n",
    "train = train.sort_values(by=['air_store_id', 'visit_date'])\n",
    "train = train.reset_index()\n",
    "train.head()"
   ]
  },
  {
   "cell_type": "code",
   "execution_count": null,
   "metadata": {},
   "outputs": [],
   "source": []
  },
  {
   "cell_type": "code",
   "execution_count": null,
   "metadata": {},
   "outputs": [],
   "source": []
  },
  {
   "cell_type": "markdown",
   "metadata": {},
   "source": [
    "## データの前処理（集計期間が店舗ごとに異なるため）"
   ]
  },
  {
   "cell_type": "markdown",
   "metadata": {},
   "source": [
    " 1. 集計が始まる前のVisitorsをすべてNullにする\n",
    " 2. 集計期間の中で欠損した日付がある場合は0で補填"
   ]
  },
  {
   "cell_type": "code",
   "execution_count": 7,
   "metadata": {},
   "outputs": [],
   "source": [
    "air_store_id = 'air_00a91d42b08b08d9'\n",
    "# air_store_idで抽出\n",
    "train_by_store = train[train['air_store_id']==air_store_id]"
   ]
  },
  {
   "cell_type": "code",
   "execution_count": 8,
   "metadata": {},
   "outputs": [],
   "source": [
    "def fill_closed_date_by_0(train_by_store=train_by_store):\n",
    "    train_by_store = train_by_store.reset_index(drop=True)\n",
    "    \n",
    "    # visitorsの1つ前のレコードを持つ列を追加\n",
    "    train_by_store['visitors_shift_1'] = train_by_store.shift(1).loc[:,'visitors']\n",
    "    # visitorsの1つ前のレコードがともにNaNなら0の列を追加\n",
    "    train_by_store['is_not_both_nan'] = ~(train_by_store['visitors'].isnull() & train_by_store['visitors_shift_1'].isnull())\n",
    "    # is_not_both_nanの累積和の列を追加（この列はnanが終わるまで0の値になる）\n",
    "    train_by_store['cumsum_not_nan'] = train_by_store['is_not_both_nan'].cumsum()\n",
    "    # cumsum_not_nan > 0 ならvisitorsのnanに0を代入\n",
    "    train_by_store.loc[train_by_store['cumsum_not_nan']>0, 'visitors'] = train_by_store.loc[train_by_store['cumsum_not_nan']>0, 'visitors'].fillna(0)\n",
    "    # 不要な列を削除\n",
    "    train_by_store = train_by_store[['air_store_id', 'visit_date', 'visitors']]\n",
    "    \n",
    "    return train_by_store"
   ]
  },
  {
   "cell_type": "code",
   "execution_count": 9,
   "metadata": {},
   "outputs": [
    {
     "data": {
      "text/html": [
       "<div>\n",
       "<style scoped>\n",
       "    .dataframe tbody tr th:only-of-type {\n",
       "        vertical-align: middle;\n",
       "    }\n",
       "\n",
       "    .dataframe tbody tr th {\n",
       "        vertical-align: top;\n",
       "    }\n",
       "\n",
       "    .dataframe thead th {\n",
       "        text-align: right;\n",
       "    }\n",
       "</style>\n",
       "<table border=\"1\" class=\"dataframe\">\n",
       "  <thead>\n",
       "    <tr style=\"text-align: right;\">\n",
       "      <th></th>\n",
       "      <th>air_store_id</th>\n",
       "      <th>visit_date</th>\n",
       "      <th>visitors</th>\n",
       "    </tr>\n",
       "  </thead>\n",
       "  <tbody>\n",
       "    <tr>\n",
       "      <th>0</th>\n",
       "      <td>air_00a91d42b08b08d9</td>\n",
       "      <td>2016-01-01</td>\n",
       "      <td>NaN</td>\n",
       "    </tr>\n",
       "    <tr>\n",
       "      <th>1</th>\n",
       "      <td>air_00a91d42b08b08d9</td>\n",
       "      <td>2016-01-02</td>\n",
       "      <td>NaN</td>\n",
       "    </tr>\n",
       "    <tr>\n",
       "      <th>2</th>\n",
       "      <td>air_00a91d42b08b08d9</td>\n",
       "      <td>2016-01-03</td>\n",
       "      <td>NaN</td>\n",
       "    </tr>\n",
       "    <tr>\n",
       "      <th>3</th>\n",
       "      <td>air_00a91d42b08b08d9</td>\n",
       "      <td>2016-01-04</td>\n",
       "      <td>NaN</td>\n",
       "    </tr>\n",
       "    <tr>\n",
       "      <th>4</th>\n",
       "      <td>air_00a91d42b08b08d9</td>\n",
       "      <td>2016-01-05</td>\n",
       "      <td>NaN</td>\n",
       "    </tr>\n",
       "  </tbody>\n",
       "</table>\n",
       "</div>"
      ],
      "text/plain": [
       "           air_store_id visit_date  visitors\n",
       "0  air_00a91d42b08b08d9 2016-01-01       NaN\n",
       "1  air_00a91d42b08b08d9 2016-01-02       NaN\n",
       "2  air_00a91d42b08b08d9 2016-01-03       NaN\n",
       "3  air_00a91d42b08b08d9 2016-01-04       NaN\n",
       "4  air_00a91d42b08b08d9 2016-01-05       NaN"
      ]
     },
     "execution_count": 9,
     "metadata": {},
     "output_type": "execute_result"
    }
   ],
   "source": [
    "train_by_store = fill_closed_date_by_0(train_by_store)\n",
    "train_by_store.head()"
   ]
  },
  {
   "cell_type": "code",
   "execution_count": 10,
   "metadata": {},
   "outputs": [
    {
     "data": {
      "text/html": [
       "<div>\n",
       "<style scoped>\n",
       "    .dataframe tbody tr th:only-of-type {\n",
       "        vertical-align: middle;\n",
       "    }\n",
       "\n",
       "    .dataframe tbody tr th {\n",
       "        vertical-align: top;\n",
       "    }\n",
       "\n",
       "    .dataframe thead th {\n",
       "        text-align: right;\n",
       "    }\n",
       "</style>\n",
       "<table border=\"1\" class=\"dataframe\">\n",
       "  <thead>\n",
       "    <tr style=\"text-align: right;\">\n",
       "      <th></th>\n",
       "      <th>air_store_id</th>\n",
       "      <th>visit_date</th>\n",
       "      <th>visitors</th>\n",
       "    </tr>\n",
       "  </thead>\n",
       "  <tbody>\n",
       "    <tr>\n",
       "      <th>182</th>\n",
       "      <td>air_00a91d42b08b08d9</td>\n",
       "      <td>2016-07-01</td>\n",
       "      <td>35.0</td>\n",
       "    </tr>\n",
       "    <tr>\n",
       "      <th>183</th>\n",
       "      <td>air_00a91d42b08b08d9</td>\n",
       "      <td>2016-07-02</td>\n",
       "      <td>9.0</td>\n",
       "    </tr>\n",
       "    <tr>\n",
       "      <th>184</th>\n",
       "      <td>air_00a91d42b08b08d9</td>\n",
       "      <td>2016-07-03</td>\n",
       "      <td>0.0</td>\n",
       "    </tr>\n",
       "    <tr>\n",
       "      <th>185</th>\n",
       "      <td>air_00a91d42b08b08d9</td>\n",
       "      <td>2016-07-04</td>\n",
       "      <td>20.0</td>\n",
       "    </tr>\n",
       "    <tr>\n",
       "      <th>186</th>\n",
       "      <td>air_00a91d42b08b08d9</td>\n",
       "      <td>2016-07-05</td>\n",
       "      <td>25.0</td>\n",
       "    </tr>\n",
       "  </tbody>\n",
       "</table>\n",
       "</div>"
      ],
      "text/plain": [
       "             air_store_id visit_date  visitors\n",
       "182  air_00a91d42b08b08d9 2016-07-01      35.0\n",
       "183  air_00a91d42b08b08d9 2016-07-02       9.0\n",
       "184  air_00a91d42b08b08d9 2016-07-03       0.0\n",
       "185  air_00a91d42b08b08d9 2016-07-04      20.0\n",
       "186  air_00a91d42b08b08d9 2016-07-05      25.0"
      ]
     },
     "execution_count": 10,
     "metadata": {},
     "output_type": "execute_result"
    }
   ],
   "source": [
    "train_by_store.dropna().head()"
   ]
  },
  {
   "cell_type": "raw",
   "metadata": {},
   "source": [
    "# それぞれの店舗を日付順に並べ、\n",
    "# 前の行が同じ店舗のレコードの場合に、\n",
    "# 当日がnullで前日もnullなら何もしない\n",
    "# 当日がnullで前日がnullでないなら0\n",
    "\n",
    "\n",
    "for i in range(1, len(train)):\n",
    "    if train['air_store_id'].loc[i] == train['air_store_id'].loc[i-1]:\n",
    "        if np.isnan(train['visitors'].loc[i]):\n",
    "            if np.isnan(train['visitors'].loc[i-1]):\n",
    "                pass\n",
    "            else:\n",
    "                train.loc[i,'visitors'] = 0\n",
    "                    "
   ]
  },
  {
   "cell_type": "markdown",
   "metadata": {},
   "source": [
    "### 集計の空白期間が長すぎる店舗はないか？"
   ]
  },
  {
   "cell_type": "code",
   "execution_count": null,
   "metadata": {},
   "outputs": [],
   "source": []
  },
  {
   "cell_type": "markdown",
   "metadata": {},
   "source": [
    "## ARMAモデルを適用"
   ]
  },
  {
   "cell_type": "markdown",
   "metadata": {},
   "source": [
    "   1. 差分をとる\n",
    "   2. ARMAで学習\n",
    "   3. 学習結果で予測\n",
    "   4. 差分をもとに戻す"
   ]
  },
  {
   "cell_type": "code",
   "execution_count": 11,
   "metadata": {},
   "outputs": [],
   "source": [
    "air_store_id = 'air_00a91d42b08b08d9'\n",
    "# air_store_idで抽出\n",
    "train_by_store = train[train['air_store_id']==air_store_id]\n",
    "\n",
    "train_by_store = fill_closed_date_by_0(train_by_store)\n",
    "\n",
    "order = (6,2)"
   ]
  },
  {
   "cell_type": "code",
   "execution_count": 12,
   "metadata": {},
   "outputs": [],
   "source": [
    "def arma_pred(train_by_store=train_by_store, order=(6,2)):\n",
    "\n",
    "    # 差分をとる\n",
    "    visitors_diff = train_by_store['visitors'].diff()\n",
    "    visitors_diff.name = 'visitors' + '_diff'\n",
    "\n",
    "    # 差分の列をtrainに結合\n",
    "    train_by_store = pd.concat([train_by_store, visitors_diff], axis=1)\n",
    "\n",
    "    # nullのある行を削除\n",
    "    train_by_store = train_by_store.dropna(axis=0)\n",
    "\n",
    "    # 学習\n",
    "    result = ARMA(train_by_store['visitors_diff'].values, order=order, dates=train_by_store['visit_date'], freq='D').fit()\n",
    "\n",
    "    # 予測\n",
    "    predicts_diff = result.predict(start='2017-04-23', end='2017-05-31')\n",
    "\n",
    "    # 差分をもとにもどす\n",
    "    last_train_value = train_by_store['visitors'].iloc[-1]\n",
    "    predicts = [predicts_diff[0] + last_train_value]\n",
    "    for i in range(1, len(predicts_diff)):\n",
    "        predicts.append(predicts_diff[i] + predicts[-1])\n",
    "        \n",
    "    return np.array(predicts)"
   ]
  },
  {
   "cell_type": "code",
   "execution_count": 13,
   "metadata": {},
   "outputs": [
    {
     "data": {
      "text/plain": [
       "array([11.74732841, 24.17240857, 29.9765318 , 24.39947992, 35.30016972])"
      ]
     },
     "execution_count": 13,
     "metadata": {},
     "output_type": "execute_result"
    }
   ],
   "source": [
    "predict = arma_pred(train_by_store,order=(6,2))\n",
    "predict[:5]"
   ]
  },
  {
   "cell_type": "code",
   "execution_count": 14,
   "metadata": {},
   "outputs": [
    {
     "name": "stderr",
     "output_type": "stream",
     "text": [
      "C:\\Users\\hiroshi_kuriyama\\AppData\\Local\\conda\\conda\\envs\\recruit_py36\\lib\\site-packages\\statsmodels\\tsa\\base\\tsa_model.py:171: ValueWarning: No frequency information was provided, so inferred frequency D will be used.\n",
      "  % freq, ValueWarning)\n"
     ]
    }
   ],
   "source": [
    "# air_store_idで抽出\n",
    "#train_by_store = train[train['air_store_id']==air_store_id]\n",
    "\n",
    "# 差分をとる\n",
    "visitors_diff = train_by_store['visitors'].diff()\n",
    "visitors_diff.name = 'visitors' + '_diff'\n",
    "\n",
    "# 差分の列をtrainに結合\n",
    "train_by_store = pd.concat([train_by_store, visitors_diff], axis=1)\n",
    "\n",
    "# nullのある行を削除\n",
    "train_by_store = train_by_store.dropna(axis=0)\n",
    "\n",
    "# 学習\n",
    "result = ARMA(train_by_store['visitors_diff'].values, order=order, dates=train_by_store['visit_date']).fit()\n",
    "\n",
    "# 予測\n",
    "predicts_diff = result.predict(start='2017-04-23', end='2017-05-31')\n",
    "\n",
    "# 差分をもとにもどす\n",
    "last_train_value = train_by_store['visitors'].iloc[-1]\n",
    "predicts = [predicts_diff[0] + last_train_value]\n",
    "for i in range(1, len(predicts_diff)):\n",
    "    predicts.append(predicts_diff[i] + predicts[-1])"
   ]
  },
  {
   "cell_type": "code",
   "execution_count": 15,
   "metadata": {},
   "outputs": [
    {
     "data": {
      "text/plain": [
       "[11.747328407986789,\n",
       " 24.172408572604944,\n",
       " 29.976531798188624,\n",
       " 24.399479920525035,\n",
       " 35.30016971653667,\n",
       " 42.72351032661973,\n",
       " 23.529054289035003,\n",
       " 16.783402378262124,\n",
       " 25.105459936558066,\n",
       " 28.821661663897373,\n",
       " 27.34148719277564,\n",
       " 33.37732220654389,\n",
       " 36.38063609222029,\n",
       " 25.790749437424456,\n",
       " 20.780705285833974,\n",
       " 25.725314774474366,\n",
       " 28.583043389227722,\n",
       " 28.594345264117326,\n",
       " 31.96607233940488,\n",
       " 33.01075520572084,\n",
       " 26.874076286630785,\n",
       " 23.530383665761562,\n",
       " 26.38113792018616,\n",
       " 28.587434264712325,\n",
       " 29.113251860369132,\n",
       " 30.983945145133063,\n",
       " 31.186441404668322,\n",
       " 27.50305372136235,\n",
       " 25.361492311356553,\n",
       " 27.018091632765444,\n",
       " 28.67199137411443,\n",
       " 29.307012715627824,\n",
       " 30.33558150447904,\n",
       " 30.20196871954816,\n",
       " 27.936064084160638,\n",
       " 26.590384249748503,\n",
       " 27.579804810940217,\n",
       " 28.78872994935382,\n",
       " 29.370060299921455]"
      ]
     },
     "execution_count": 15,
     "metadata": {},
     "output_type": "execute_result"
    }
   ],
   "source": [
    "predicts"
   ]
  },
  {
   "cell_type": "code",
   "execution_count": 16,
   "metadata": {},
   "outputs": [
    {
     "data": {
      "text/plain": [
       "[11.747328407986789]"
      ]
     },
     "execution_count": 16,
     "metadata": {},
     "output_type": "execute_result"
    }
   ],
   "source": [
    "[predicts_diff[0] + last_train_value]"
   ]
  },
  {
   "cell_type": "markdown",
   "metadata": {},
   "source": [
    "## 店舗ごとに分析"
   ]
  },
  {
   "cell_type": "code",
   "execution_count": 17,
   "metadata": {},
   "outputs": [
    {
     "data": {
      "text/plain": [
       "array([datetime.date(2017, 4, 23), datetime.date(2017, 4, 24),\n",
       "       datetime.date(2017, 4, 25), datetime.date(2017, 4, 26),\n",
       "       datetime.date(2017, 4, 27), datetime.date(2017, 4, 28),\n",
       "       datetime.date(2017, 4, 29), datetime.date(2017, 4, 30),\n",
       "       datetime.date(2017, 5, 1), datetime.date(2017, 5, 2),\n",
       "       datetime.date(2017, 5, 3), datetime.date(2017, 5, 4),\n",
       "       datetime.date(2017, 5, 5), datetime.date(2017, 5, 6),\n",
       "       datetime.date(2017, 5, 7), datetime.date(2017, 5, 8),\n",
       "       datetime.date(2017, 5, 9), datetime.date(2017, 5, 10),\n",
       "       datetime.date(2017, 5, 11), datetime.date(2017, 5, 12),\n",
       "       datetime.date(2017, 5, 13), datetime.date(2017, 5, 14),\n",
       "       datetime.date(2017, 5, 15), datetime.date(2017, 5, 16),\n",
       "       datetime.date(2017, 5, 17), datetime.date(2017, 5, 18),\n",
       "       datetime.date(2017, 5, 19), datetime.date(2017, 5, 20),\n",
       "       datetime.date(2017, 5, 21), datetime.date(2017, 5, 22),\n",
       "       datetime.date(2017, 5, 23), datetime.date(2017, 5, 24),\n",
       "       datetime.date(2017, 5, 25), datetime.date(2017, 5, 26),\n",
       "       datetime.date(2017, 5, 27), datetime.date(2017, 5, 28),\n",
       "       datetime.date(2017, 5, 29), datetime.date(2017, 5, 30),\n",
       "       datetime.date(2017, 5, 31)], dtype=object)"
      ]
     },
     "execution_count": 17,
     "metadata": {},
     "output_type": "execute_result"
    }
   ],
   "source": [
    "np.array([datetime.date(2017, 4, 23) + datetime.timedelta(i) for i in range(39)])"
   ]
  },
  {
   "cell_type": "code",
   "execution_count": 18,
   "metadata": {},
   "outputs": [],
   "source": [
    "import warnings\n",
    "warnings.filterwarnings('ignore')"
   ]
  },
  {
   "cell_type": "code",
   "execution_count": 19,
   "metadata": {},
   "outputs": [],
   "source": [
    "# air_store_id一覧を用意する\n",
    "air_store_ids = train['air_store_id'].unique()\n",
    "\n",
    "predicts_appended = []\n",
    "air_sotre_id_appended = []\n",
    "date_appended = []\n",
    "error_id = []\n",
    "num_i = 0\n",
    "\n",
    "\n",
    "for air_store_id in air_store_ids:\n",
    "    num_i += 1\n",
    "    air_store_id_i = air_store_id\n",
    "    \n",
    "    train_by_store = train[train['air_store_id']==air_store_id]\n",
    "    train_by_store = fill_closed_date_by_0(train_by_store)\n",
    "    try:\n",
    "        predicts = arma_pred(train_by_store, order=(6,2))\n",
    "    # 例外が発生したら、平均値をpredictsにする\n",
    "    except:\n",
    "        error_id.append(air_store_id)\n",
    "        predicts = np.zeros(39) + train_by_store['visitors'].mean()\n",
    "        \n",
    "    predicts_appended = np.append(predicts_appended, predicts)\n",
    "    air_sotre_id_appended = np.append(air_sotre_id_appended, np.array([air_store_id for i in range(39)]))\n",
    "    date_appended = np.append(date_appended, np.array([datetime.date(2017, 4, 23) + datetime.timedelta(i) for i in range(39)]))\n",
    "    "
   ]
  },
  {
   "cell_type": "code",
   "execution_count": 20,
   "metadata": {},
   "outputs": [
    {
     "data": {
      "text/plain": [
       "821"
      ]
     },
     "execution_count": 20,
     "metadata": {},
     "output_type": "execute_result"
    }
   ],
   "source": [
    "num_i"
   ]
  },
  {
   "cell_type": "code",
   "execution_count": 21,
   "metadata": {},
   "outputs": [
    {
     "data": {
      "text/plain": [
       "'air_fff68b929994bfbd'"
      ]
     },
     "execution_count": 21,
     "metadata": {},
     "output_type": "execute_result"
    }
   ],
   "source": [
    "air_store_id_i"
   ]
  },
  {
   "cell_type": "code",
   "execution_count": 22,
   "metadata": {},
   "outputs": [
    {
     "data": {
      "text/html": [
       "<div>\n",
       "<style scoped>\n",
       "    .dataframe tbody tr th:only-of-type {\n",
       "        vertical-align: middle;\n",
       "    }\n",
       "\n",
       "    .dataframe tbody tr th {\n",
       "        vertical-align: top;\n",
       "    }\n",
       "\n",
       "    .dataframe thead th {\n",
       "        text-align: right;\n",
       "    }\n",
       "</style>\n",
       "<table border=\"1\" class=\"dataframe\">\n",
       "  <thead>\n",
       "    <tr style=\"text-align: right;\">\n",
       "      <th></th>\n",
       "      <th>air_store_id</th>\n",
       "      <th>visit_date</th>\n",
       "      <th>visitors</th>\n",
       "    </tr>\n",
       "  </thead>\n",
       "  <tbody>\n",
       "    <tr>\n",
       "      <th>182</th>\n",
       "      <td>air_fff68b929994bfbd</td>\n",
       "      <td>2016-07-01</td>\n",
       "      <td>3.0</td>\n",
       "    </tr>\n",
       "    <tr>\n",
       "      <th>183</th>\n",
       "      <td>air_fff68b929994bfbd</td>\n",
       "      <td>2016-07-02</td>\n",
       "      <td>3.0</td>\n",
       "    </tr>\n",
       "    <tr>\n",
       "      <th>184</th>\n",
       "      <td>air_fff68b929994bfbd</td>\n",
       "      <td>2016-07-03</td>\n",
       "      <td>0.0</td>\n",
       "    </tr>\n",
       "    <tr>\n",
       "      <th>185</th>\n",
       "      <td>air_fff68b929994bfbd</td>\n",
       "      <td>2016-07-04</td>\n",
       "      <td>0.0</td>\n",
       "    </tr>\n",
       "    <tr>\n",
       "      <th>186</th>\n",
       "      <td>air_fff68b929994bfbd</td>\n",
       "      <td>2016-07-05</td>\n",
       "      <td>7.0</td>\n",
       "    </tr>\n",
       "  </tbody>\n",
       "</table>\n",
       "</div>"
      ],
      "text/plain": [
       "             air_store_id visit_date  visitors\n",
       "182  air_fff68b929994bfbd 2016-07-01       3.0\n",
       "183  air_fff68b929994bfbd 2016-07-02       3.0\n",
       "184  air_fff68b929994bfbd 2016-07-03       0.0\n",
       "185  air_fff68b929994bfbd 2016-07-04       0.0\n",
       "186  air_fff68b929994bfbd 2016-07-05       7.0"
      ]
     },
     "execution_count": 22,
     "metadata": {},
     "output_type": "execute_result"
    }
   ],
   "source": [
    "fill_closed_date_by_0(train[train['air_store_id']==air_store_id_i]).dropna().head()"
   ]
  },
  {
   "cell_type": "code",
   "execution_count": null,
   "metadata": {},
   "outputs": [],
   "source": []
  },
  {
   "cell_type": "code",
   "execution_count": null,
   "metadata": {},
   "outputs": [],
   "source": []
  },
  {
   "cell_type": "markdown",
   "metadata": {},
   "source": [
    "## 提出ファイルを作成"
   ]
  },
  {
   "cell_type": "markdown",
   "metadata": {},
   "source": [
    "submissionデータをインポート"
   ]
  },
  {
   "cell_type": "code",
   "execution_count": 23,
   "metadata": {},
   "outputs": [
    {
     "data": {
      "text/html": [
       "<div>\n",
       "<style scoped>\n",
       "    .dataframe tbody tr th:only-of-type {\n",
       "        vertical-align: middle;\n",
       "    }\n",
       "\n",
       "    .dataframe tbody tr th {\n",
       "        vertical-align: top;\n",
       "    }\n",
       "\n",
       "    .dataframe thead th {\n",
       "        text-align: right;\n",
       "    }\n",
       "</style>\n",
       "<table border=\"1\" class=\"dataframe\">\n",
       "  <thead>\n",
       "    <tr style=\"text-align: right;\">\n",
       "      <th></th>\n",
       "      <th>id</th>\n",
       "      <th>visitors</th>\n",
       "    </tr>\n",
       "  </thead>\n",
       "  <tbody>\n",
       "    <tr>\n",
       "      <th>0</th>\n",
       "      <td>air_00a91d42b08b08d9_2017-04-23</td>\n",
       "      <td>0</td>\n",
       "    </tr>\n",
       "    <tr>\n",
       "      <th>1</th>\n",
       "      <td>air_00a91d42b08b08d9_2017-04-24</td>\n",
       "      <td>0</td>\n",
       "    </tr>\n",
       "    <tr>\n",
       "      <th>2</th>\n",
       "      <td>air_00a91d42b08b08d9_2017-04-25</td>\n",
       "      <td>0</td>\n",
       "    </tr>\n",
       "    <tr>\n",
       "      <th>3</th>\n",
       "      <td>air_00a91d42b08b08d9_2017-04-26</td>\n",
       "      <td>0</td>\n",
       "    </tr>\n",
       "    <tr>\n",
       "      <th>4</th>\n",
       "      <td>air_00a91d42b08b08d9_2017-04-27</td>\n",
       "      <td>0</td>\n",
       "    </tr>\n",
       "  </tbody>\n",
       "</table>\n",
       "</div>"
      ],
      "text/plain": [
       "                                id  visitors\n",
       "0  air_00a91d42b08b08d9_2017-04-23         0\n",
       "1  air_00a91d42b08b08d9_2017-04-24         0\n",
       "2  air_00a91d42b08b08d9_2017-04-25         0\n",
       "3  air_00a91d42b08b08d9_2017-04-26         0\n",
       "4  air_00a91d42b08b08d9_2017-04-27         0"
      ]
     },
     "execution_count": 23,
     "metadata": {},
     "output_type": "execute_result"
    }
   ],
   "source": [
    "sample_submission = pd.read_csv(os.path.join(data_dir, 'sample_submission.csv'), engine='python')\n",
    "sample_submission.head()"
   ]
  },
  {
   "cell_type": "markdown",
   "metadata": {},
   "source": [
    "### 予測の出力をDataFrameにまとめる"
   ]
  },
  {
   "cell_type": "code",
   "execution_count": 63,
   "metadata": {},
   "outputs": [
    {
     "data": {
      "text/html": [
       "<div>\n",
       "<style scoped>\n",
       "    .dataframe tbody tr th:only-of-type {\n",
       "        vertical-align: middle;\n",
       "    }\n",
       "\n",
       "    .dataframe tbody tr th {\n",
       "        vertical-align: top;\n",
       "    }\n",
       "\n",
       "    .dataframe thead th {\n",
       "        text-align: right;\n",
       "    }\n",
       "</style>\n",
       "<table border=\"1\" class=\"dataframe\">\n",
       "  <thead>\n",
       "    <tr style=\"text-align: right;\">\n",
       "      <th></th>\n",
       "      <th>air_sotre_id</th>\n",
       "      <th>date</th>\n",
       "      <th>visitors</th>\n",
       "      <th>id</th>\n",
       "    </tr>\n",
       "  </thead>\n",
       "  <tbody>\n",
       "    <tr>\n",
       "      <th>0</th>\n",
       "      <td>air_00a91d42b08b08d9</td>\n",
       "      <td>2017-04-23</td>\n",
       "      <td>11.7473</td>\n",
       "      <td>air_00a91d42b08b08d9_2017-04-23</td>\n",
       "    </tr>\n",
       "    <tr>\n",
       "      <th>1</th>\n",
       "      <td>air_00a91d42b08b08d9</td>\n",
       "      <td>2017-04-24</td>\n",
       "      <td>24.1724</td>\n",
       "      <td>air_00a91d42b08b08d9_2017-04-24</td>\n",
       "    </tr>\n",
       "    <tr>\n",
       "      <th>2</th>\n",
       "      <td>air_00a91d42b08b08d9</td>\n",
       "      <td>2017-04-25</td>\n",
       "      <td>29.9765</td>\n",
       "      <td>air_00a91d42b08b08d9_2017-04-25</td>\n",
       "    </tr>\n",
       "    <tr>\n",
       "      <th>3</th>\n",
       "      <td>air_00a91d42b08b08d9</td>\n",
       "      <td>2017-04-26</td>\n",
       "      <td>24.3995</td>\n",
       "      <td>air_00a91d42b08b08d9_2017-04-26</td>\n",
       "    </tr>\n",
       "    <tr>\n",
       "      <th>4</th>\n",
       "      <td>air_00a91d42b08b08d9</td>\n",
       "      <td>2017-04-27</td>\n",
       "      <td>35.3002</td>\n",
       "      <td>air_00a91d42b08b08d9_2017-04-27</td>\n",
       "    </tr>\n",
       "  </tbody>\n",
       "</table>\n",
       "</div>"
      ],
      "text/plain": [
       "           air_sotre_id        date visitors                               id\n",
       "0  air_00a91d42b08b08d9  2017-04-23  11.7473  air_00a91d42b08b08d9_2017-04-23\n",
       "1  air_00a91d42b08b08d9  2017-04-24  24.1724  air_00a91d42b08b08d9_2017-04-24\n",
       "2  air_00a91d42b08b08d9  2017-04-25  29.9765  air_00a91d42b08b08d9_2017-04-25\n",
       "3  air_00a91d42b08b08d9  2017-04-26  24.3995  air_00a91d42b08b08d9_2017-04-26\n",
       "4  air_00a91d42b08b08d9  2017-04-27  35.3002  air_00a91d42b08b08d9_2017-04-27"
      ]
     },
     "execution_count": 63,
     "metadata": {},
     "output_type": "execute_result"
    }
   ],
   "source": [
    "predicts_submission_np = np.vstack((air_sotre_id_appended, date_appended, predicts_appended)).T\n",
    "predicts_submission_df = pd.DataFrame(predicts_submission_np)\n",
    "predicts_submission_df.columns = ['air_sotre_id', 'date','visitors']\n",
    "predicts_submission_df['id'] = predicts_submission_df.apply(lambda x : x['air_sotre_id'] + '_' + x['date'].strftime('%Y-%m-%d'), axis=1)\n",
    "predicts_submission_df.head()"
   ]
  },
  {
   "cell_type": "markdown",
   "metadata": {},
   "source": [
    "### 形式がsample_submissionと一致しているか確かめる(結果が0ならOK)"
   ]
  },
  {
   "cell_type": "code",
   "execution_count": 62,
   "metadata": {},
   "outputs": [
    {
     "data": {
      "text/plain": [
       "0"
      ]
     },
     "execution_count": 62,
     "metadata": {},
     "output_type": "execute_result"
    }
   ],
   "source": [
    "(sample_submission['id'] != predicts_submission_df['id']).sum()"
   ]
  },
  {
   "cell_type": "code",
   "execution_count": null,
   "metadata": {},
   "outputs": [],
   "source": []
  },
  {
   "cell_type": "code",
   "execution_count": null,
   "metadata": {},
   "outputs": [],
   "source": []
  },
  {
   "cell_type": "markdown",
   "metadata": {},
   "source": [
    "予測結果が0以下の場合は0に変換"
   ]
  },
  {
   "cell_type": "code",
   "execution_count": 66,
   "metadata": {},
   "outputs": [],
   "source": [
    "predicts_submission_df.loc[predicts_submission_df['visitors']<0, 'visitors'] = 0"
   ]
  },
  {
   "cell_type": "code",
   "execution_count": 68,
   "metadata": {},
   "outputs": [],
   "source": [
    "predicts_submisson = predicts_submission_df[['id', 'visitors']]"
   ]
  },
  {
   "cell_type": "code",
   "execution_count": 70,
   "metadata": {},
   "outputs": [],
   "source": [
    "predicts_submisson.to_csv(os.path.join(data_dir, 'predicts_submisson_arma.csv'), index=False)"
   ]
  },
  {
   "cell_type": "code",
   "execution_count": null,
   "metadata": {},
   "outputs": [],
   "source": []
  }
 ],
 "metadata": {
  "kernelspec": {
   "display_name": "Python 3",
   "language": "python",
   "name": "python3"
  },
  "language_info": {
   "codemirror_mode": {
    "name": "ipython",
    "version": 3
   },
   "file_extension": ".py",
   "mimetype": "text/x-python",
   "name": "python",
   "nbconvert_exporter": "python",
   "pygments_lexer": "ipython3",
   "version": "3.5.4"
  }
 },
 "nbformat": 4,
 "nbformat_minor": 2
}
