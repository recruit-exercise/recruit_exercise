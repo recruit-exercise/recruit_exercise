{
 "cells": [
  {
   "cell_type": "markdown",
   "metadata": {},
   "source": [
    "# ARMAモデルを全店舗に適用して予測"
   ]
  },
  {
   "cell_type": "markdown",
   "metadata": {},
   "source": [
    "1. レコードの数で店舗をクループわけ（店舗により集計期間が異なるため）\n",
    "2. それぞれのグループの集計期間の中で欠損した日付がある場合は0で補填\n",
    "3. 店舗ごとにARMAモデルを適用\n",
    "   1. 差分をとる\n",
    "   2. ARMAで学習\n",
    "   3. 学習結果で予測\n",
    "   4. 差分をもとに戻す\n",
    "4. Submit file を作成し、出力"
   ]
  },
  {
   "cell_type": "code",
   "execution_count": 2,
   "metadata": {},
   "outputs": [],
   "source": [
    "import os\n",
    "import numpy as np\n",
    "import pandas as pd\n",
    "import matplotlib.pyplot as plt\n",
    "import seaborn as sns\n",
    "import statsmodels.tsa.api as smt\n",
    "import statsmodels.api as sm\n",
    "from statsmodels.tsa.arima_model import AR, ARMA, ARIMA\n",
    "from sklearn import metrics\n",
    "from IPython.display import  display\n",
    "sns.set_style('whitegrid')\n",
    "%matplotlib inline"
   ]
  },
  {
   "cell_type": "code",
   "execution_count": null,
   "metadata": {},
   "outputs": [],
   "source": []
  }
 ],
 "metadata": {
  "kernelspec": {
   "display_name": "Python 3",
   "language": "python",
   "name": "python3"
  },
  "language_info": {
   "codemirror_mode": {
    "name": "ipython",
    "version": 3
   },
   "file_extension": ".py",
   "mimetype": "text/x-python",
   "name": "python",
   "nbconvert_exporter": "python",
   "pygments_lexer": "ipython3",
   "version": "3.5.4"
  }
 },
 "nbformat": 4,
 "nbformat_minor": 2
}
